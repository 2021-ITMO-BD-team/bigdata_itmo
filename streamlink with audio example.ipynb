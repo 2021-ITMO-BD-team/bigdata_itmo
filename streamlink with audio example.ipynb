{
 "cells": [
  {
   "cell_type": "code",
   "execution_count": 1,
   "id": "028abece",
   "metadata": {},
   "outputs": [],
   "source": [
    "import streamlink\n",
    "import ffmpeg"
   ]
  },
  {
   "cell_type": "markdown",
   "id": "43486323",
   "metadata": {},
   "source": [
    "Insert stream link"
   ]
  },
  {
   "cell_type": "code",
   "execution_count": 2,
   "id": "dfba19e2",
   "metadata": {},
   "outputs": [],
   "source": [
    "streams = streamlink.streams(\"https://www.youtube.com/watch?v=5YooJXIGXgA\")"
   ]
  },
  {
   "cell_type": "markdown",
   "id": "bbfae4d2",
   "metadata": {},
   "source": [
    "Read a chunk"
   ]
  },
  {
   "cell_type": "code",
   "execution_count": 3,
   "id": "a75cf737",
   "metadata": {},
   "outputs": [],
   "source": [
    "fd = streams['best'].open()\n",
    "data = fd.read(1024 * 250000)\n",
    "fd.close()"
   ]
  },
  {
   "cell_type": "markdown",
   "id": "e9f8456e",
   "metadata": {},
   "source": [
    "Insert output file name"
   ]
  },
  {
   "cell_type": "code",
   "execution_count": 4,
   "id": "ebbb97d3",
   "metadata": {},
   "outputs": [],
   "source": [
    "filename = 'test'"
   ]
  },
  {
   "cell_type": "markdown",
   "id": "d419e9fb",
   "metadata": {},
   "source": [
    "Save chunk into file"
   ]
  },
  {
   "cell_type": "code",
   "execution_count": 6,
   "id": "e53b3500",
   "metadata": {},
   "outputs": [],
   "source": [
    "with open('{}.ts'.format(filename), 'wb+') as f:\n",
    "    f.write(data)"
   ]
  },
  {
   "cell_type": "markdown",
   "id": "567d79e2",
   "metadata": {},
   "source": [
    "Convert into video + audio file"
   ]
  },
  {
   "cell_type": "code",
   "execution_count": 7,
   "id": "163cf8b8",
   "metadata": {},
   "outputs": [
    {
     "data": {
      "text/plain": [
       "(None, None)"
      ]
     },
     "execution_count": 7,
     "metadata": {},
     "output_type": "execute_result"
    }
   ],
   "source": [
    "stream = ffmpeg.input('{}.ts'.format(filename))\n",
    "stream = ffmpeg.output(stream, '{}.mp4'.format(filename))\n",
    "ffmpeg.run(stream)"
   ]
  },
  {
   "cell_type": "markdown",
   "id": "2a3fb4f9",
   "metadata": {},
   "source": [
    "Congrats, It was much easier than I thought"
   ]
  }
 ],
 "metadata": {
  "kernelspec": {
   "display_name": "Python 3",
   "language": "python",
   "name": "python3"
  },
  "language_info": {
   "codemirror_mode": {
    "name": "ipython",
    "version": 3
   },
   "file_extension": ".py",
   "mimetype": "text/x-python",
   "name": "python",
   "nbconvert_exporter": "python",
   "pygments_lexer": "ipython3",
   "version": "3.8.5"
  }
 },
 "nbformat": 4,
 "nbformat_minor": 5
}
