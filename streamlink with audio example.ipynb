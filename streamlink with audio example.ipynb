{
 "cells": [
  {
   "cell_type": "code",
   "execution_count": 64,
   "id": "3e5cb4cc",
   "metadata": {},
   "outputs": [],
   "source": [
    "import streamlink\n",
    "import ffmpeg\n",
    "import sys\n",
    "from ffmpeg import Error"
   ]
  },
  {
   "cell_type": "markdown",
   "id": "3338ae94",
   "metadata": {},
   "source": [
    "Insert stream link"
   ]
  },
  {
   "cell_type": "code",
   "execution_count": 65,
   "id": "90747c10",
   "metadata": {},
   "outputs": [],
   "source": [
    "streams = streamlink.streams(\"https://www.youtube.com/watch?v=5YooJXIGXgA\")"
   ]
  },
  {
   "cell_type": "markdown",
   "id": "d5c693ff",
   "metadata": {},
   "source": [
    "Read a chunk"
   ]
  },
  {
   "cell_type": "code",
   "execution_count": 66,
   "id": "f641cd6e",
   "metadata": {},
   "outputs": [],
   "source": [
    "fd = streams['best'].open()\n",
    "data = fd.read(1024 * 250000)\n",
    "fd.close()"
   ]
  },
  {
   "cell_type": "markdown",
   "id": "3d22f7ae",
   "metadata": {},
   "source": [
    "Insert output file name"
   ]
  },
  {
   "cell_type": "code",
   "execution_count": 67,
   "id": "f42f2789",
   "metadata": {},
   "outputs": [],
   "source": [
    "filename = 'test'"
   ]
  },
  {
   "cell_type": "markdown",
   "id": "7ccd63a3",
   "metadata": {},
   "source": [
    "Save chunk into file"
   ]
  },
  {
   "cell_type": "code",
   "execution_count": 68,
   "id": "0473be53",
   "metadata": {},
   "outputs": [],
   "source": [
    "with open('{}.ts'.format(filename), 'wb+') as f:\n",
    "    f.write(data)"
   ]
  },
  {
   "cell_type": "markdown",
   "id": "5bc4d1d7",
   "metadata": {},
   "source": [
    "Create pure video and pure audiofile from chunk"
   ]
  },
  {
   "cell_type": "code",
   "execution_count": 69,
   "id": "942a8415",
   "metadata": {},
   "outputs": [],
   "source": [
    "try:\n",
    "    stream = ffmpeg.input('{}.ts'.format(filename))\n",
    "    output_video = ffmpeg.output(stream.video, '{}.mp4'.format(filename))\n",
    "    output_audio = ffmpeg.output(stream.audio, '{}.wav'.format(filename))\n",
    "    stream = ffmpeg.merge_outputs(output_video, output_audio)\n",
    "    ffmpeg.run(stream, capture_stderr=True)\n",
    "except Error as err:\n",
    "    print(err.stderr)\n",
    "    raise"
   ]
  },
  {
   "cell_type": "markdown",
   "id": "c53bf79a",
   "metadata": {},
   "source": [
    "Congrats, It was much easier than I thought"
   ]
  }
 ],
 "metadata": {
  "kernelspec": {
   "display_name": "Python 3",
   "language": "python",
   "name": "python3"
  },
  "language_info": {
   "codemirror_mode": {
    "name": "ipython",
    "version": 3
   },
   "file_extension": ".py",
   "mimetype": "text/x-python",
   "name": "python",
   "nbconvert_exporter": "python",
   "pygments_lexer": "ipython3",
   "version": "3.8.5"
  }
 },
 "nbformat": 4,
 "nbformat_minor": 5
}
